{
 "cells": [
  {
   "cell_type": "markdown",
   "id": "03945f2f-8641-4bd4-9b4f-422adabf44fb",
   "metadata": {},
   "source": [
    "# Python for DE - Basics"
   ]
  },
  {
   "cell_type": "markdown",
   "id": "eb26ce74-9417-4178-929e-9bb173ff72ba",
   "metadata": {},
   "source": [
    "### Index of \"Python for DE - Basics\"\r\n",
    "\r\n",
    "####.  1Miscellaneous Topics That I think Confuse me All the tio- **Module vs Library vs Pkagesce\n",
    ". Functional Progmmings2\r\n",
    "\r\n",
    "#### 3. Data Structures\r\n",
    "- **Lists**: Properties, usage, examples.\r\n",
    "- **Tuples**: Immutable sequences.\r\n",
    "- **Sets**: Unique unordered collections.\r\n",
    "- **Dictionaries**: Key-value pairs.\r\n",
    "- **Strings**: Behaviors and ope3ations.\r\n",
    "\r\n",
    "#### 4. Classes and Objects\r\n",
    "- Concepts: classes, objects, constructors, and methods.\r\n",
    "- Examples with Python co4e snippets.\r\n",
    "\r\n",
    "#### 5. Basic Python Questions\r\n",
    "- Questions on variables, data structures, loops, and functions.\r\n",
    "- Example tasks wi5h explanations.\r\n",
    "\r\n",
    "#### 6. Writing Memory-Efficient Data Pipelines\r\n",
    "- **Using Generators**: Lazy evaluation, creating generators.\r\n",
    "- **ETL Pipeline Example**: Implementing generators for an ETL task.\r\n",
    "- **Batch Processing**: Fetching data in batches.\r\n",
    "- Pros and cons of generators.\r\n",
    "- **Distributed Frameworks**: Overview of Apache 6park, Flink, and Dask.\r\n",
    "\r\n",
    "#### 7. Dataclasses\r\n",
    "- Overview and usage of the `@dataclass` decorator.\r\n",
    "- Examples of mutable7and immutable dataclasses.\r\n",
    "\r\n",
    "#### 8. Type Hints\r\n",
    "- Introduction to type annotations in Python.\r\n",
    "- Use with static type checkers (`mypy`).\r\n",
    "- Exa8ples of higher-order functions.\r\n",
    "\r\n",
    "#### 9. Itertools\r\n",
    "- Functions for iterators: `count`, `cycle`, `islice`, etc.\r\n",
    "- Examples: combining, filter9g, grouping, and aggregating data.\r\n",
    "\r\n",
    "#### 10. Regex\r\n",
    "- Common patterns and usage scenarios.\r\n",
    "- Examples: extracting emai0s, matching dates, and splitting text.\r\n",
    "\r\n",
    "#### 11. Shallow Copy vs Deep Copy\r\n",
    "- Differences between shallow and deep copies.\r\n",
    "- Examples illustrald you like a deeper summary of any specific section?"
   ]
  },
  {
   "cell_type": "markdown",
   "id": "e3accfff-580a-463b-bb85-ac939f198879",
   "metadata": {},
   "source": [
    "## Miscellaneous Topics That I think Confuse me All the time\n",
    "\n",
    "### 1. Module Vs Libary Vs Package\n",
    "- **Module**\n",
    "    - It is a single python file (.py extension) which can contain functions, classes, variables etc\n",
    "    - These are used for organising code logically\n",
    "- **Library**\n",
    "    - It is a collection of modules (or even a single module) that provides specific functionality\n",
    "    - Designed to be resuable\n",
    "- **Package**\n",
    "    - Basically a folder with multiple .py files (modules).\n",
    "    - The presence of the __init__.py file \"tells Python\" that this folder should be treated as a package (something you can import).\n",
    "    - When your project becomes too large or complex, a single module (one .py file) may no longer be sufficient to organize your code. In such cases, you group related modules into a package for better organization and structure.\n",
    " \n",
    "\n",
    "### 2. Functional Programming\n",
    "- It's a programming paradigm (basically a way of thinking about how to structure your code)\n",
    "- It considers computation as mathematical functions\n",
    "- It focuses on writing pure functions (functions which only depend on the input arguement and nothing else) and emphasizes immutability, declarative code, and higher-order functions.\n",
    "- Best example of FP in Python is list comprehension and lambda functions"
   ]
  },
  {
   "cell_type": "markdown",
   "id": "c5996ffd-c4a9-496a-8f8d-ea50a72e5792",
   "metadata": {},
   "source": [
    "## 1. Data Structures\n",
    "### 1. Lists\n",
    "- Ordered collection of items\n",
    "- It is mutable (can be edited after creating)\n",
    "- Items can be of different data types\n",
    "- Lists need additional memory to handle dynamic resizing and associated methods. They also use pointers to store the memory addresses of their elements, leading to more memory usage."
   ]
  },
  {
   "cell_type": "code",
   "execution_count": 1,
   "id": "490f5d2d-773c-451c-aeed-56aaa97a1d34",
   "metadata": {},
   "outputs": [
    {
     "name": "stdout",
     "output_type": "stream",
     "text": [
      "['apple', 'banana', 'cherry', 'orange']\n",
      "['apple', 'cherry', 'orange']\n",
      "['cherry', 'orange']\n"
     ]
    }
   ],
   "source": [
    "fruits = [\"apple\", \"banana\", \"cherry\"]\n",
    "\n",
    "# Adding Items\n",
    "fruits.append(\"orange\")\n",
    "print(fruits)  # Output: ['apple', 'banana', 'cherry', 'orange']\n",
    "\n",
    "# Removing Items\n",
    "fruits.remove(\"banana\")\n",
    "print(fruits)  # Output: ['apple', 'cherry', 'orange']\n",
    "\n",
    "# Slicing\n",
    "print(fruits[1:])  # Output: ['cherry', 'orange']"
   ]
  },
  {
   "cell_type": "markdown",
   "id": "ab26b8f8-0e42-4e2c-9efa-b23b9a3e77d1",
   "metadata": {},
   "source": [
    "### 2. Tuple\n",
    "- Ordered collection of items\n",
    "- Immutable (cannot be edited)\n",
    "- Faster than lists because it only allows read-only\n",
    "- stored as a single contiguous block of memory without any extra overhead for resizing or methods.\n",
    "\n",
    "### 3. Sets\n",
    "- Unordered collection of unique items\n",
    "- mutable\n",
    "- Supports mathematical set operations\n",
    "\n",
    "### 4. Dictionaries\n",
    "- Unordered collection of key-value pairs\n",
    "- mutable\n",
    "- keys must be unique and of immutable type\n",
    "\n",
    "\n",
    "### 5. Strings\n",
    "- Although strings are not traditionally considered data structures, they behave like immutable sequences of characters.\n",
    "- Immutable\n",
    "- Strings can be sliced and iterated over like lists.\n",
    "\n",
    "## 2. Classes and Objects\n",
    "### Classes\n",
    "- It's basically a blueprint for creating objects\n",
    "- It defines the attributes (properties) and methods (behaviours/functions)\n",
    "\n",
    "```python\n",
    "class ClassName:\n",
    "    # Constructor Method - this is used to initialse an object\n",
    "    def __init__(self, attribute1, attribute2):\n",
    "        self.attribute1 = attribute1\n",
    "        self.attribute2 = attribute2\n",
    "    def foo(self):\n",
    "        return pass\n",
    "```\n",
    "#### Constructor method\n",
    "- `__init__`: This is the **constructor** method, which is called automatically when an object is instantiated (created).\n",
    "- It's used to initialize the object's attributes.\n",
    "- `self`: It refers to the current instance of the class (the object). Every method inside the class must have `self` as its first parameter.\n",
    "- `self.attribute1 = attribute1 # why??` => taking the value passed to the constructor and assigning to the instance variable `self.attribute1`. This ensures all the methods within the class have access to the attributes\n",
    "\n",
    "### Objects\n",
    "- Simply the instances of a class created from it's blueprint\n",
    "\n",
    "```python\n",
    "# Creating an instance of the class\n",
    "my_object = ClassName(attribute1_value, attribute2_value)\n",
    "```"
   ]
  },
  {
   "cell_type": "code",
   "execution_count": 4,
   "id": "c803231b-60fb-4607-b7ce-8794023a4b2b",
   "metadata": {},
   "outputs": [
    {
     "name": "stdout",
     "output_type": "stream",
     "text": [
      "Joyan\n",
      "{'name': 'Joyan', 'age': 25, 'course': 'CS', 'grade': 'A'}\n",
      "{'name': 'Joyan', 'course': 'CS', 'grade': 'A'}\n",
      "name: Joyan\n",
      "course: CS\n",
      "grade: A\n"
     ]
    }
   ],
   "source": [
    "# Creating a Dictionary\n",
    "student = {\"name\": \"Joyan\", \"age\": 25, \"course\": \"CS\"}\n",
    "\n",
    "# Accessing Values with keys\n",
    "print(student['name'])\n",
    "\n",
    "# Adding or Updating a Key-Value Pair\n",
    "student[\"grade\"] = \"A\"\n",
    "print(student)  # Output: {'name': 'Joyan', 'age': 25, 'course': 'CS', 'grade': 'A'}\n",
    "\n",
    "# Removing a Key-Value Pair\n",
    "del student[\"age\"]\n",
    "print(student)  # Output: {'name': 'Joyan', 'course': 'CS', 'grade': 'A'}\n",
    "\n",
    "# Iterating Through a Dictionary\n",
    "for key, value in student.items():\n",
    "    print(f\"{key}: {value}\")"
   ]
  },
  {
   "cell_type": "markdown",
   "id": "3c7df2c9-ae8b-422b-b8bb-fcc703f19887",
   "metadata": {},
   "source": [
    "## Basic Questions"
   ]
  },
  {
   "cell_type": "code",
   "execution_count": 8,
   "id": "a013f7c7-6903-4cae-8356-3d057947450c",
   "metadata": {},
   "outputs": [
    {
     "name": "stdout",
     "output_type": "stream",
     "text": [
      "Question 1 ans: 30\n",
      "Some string\n",
      "Element at index 0: 1\n",
      "Element at index 3: 4\n",
      "1, 2\n",
      "Element at index 0: 1\n",
      "Element at index 1: hello\n",
      "apple\n",
      "banana\n",
      "cherry\n",
      "Key: name - Value: Joyan\n",
      "Key: age - Value: 25\n",
      "Key: course - Value: CS\n",
      "Using list comprehension: [2, 4, 6, 8]\n",
      "gt_three function to filter elements greater than 3 from list_1: [4, 5, 6]\n",
      "output of gt_three(list_2): []\n",
      "DataExtractor object and print its some_value attribute: some_value_as_attribute\n",
      "IndexError\n"
     ]
    }
   ],
   "source": [
    "# Variable: A storage location identified by its name, containing some value.\n",
    "# Question: Assign a value of 10 to variable a and 20 to variable b\n",
    "# Question: Store the result of a + b in a variable c and print it. What is the result of a + b?\n",
    "a, b = 10, 20\n",
    "c = a + b\n",
    "print(f\"Question 1 ans: {c}\")\n",
    "\n",
    "s = '  Some string '\n",
    "# Question: How do you remove the empty spaces in front of and behind the string s?\n",
    "print(s.strip())\n",
    "\n",
    "# Data Structures are ways of representing data, each has its own pros and cons and places that they are the right fit.\n",
    "## List: A collection of elements that can be accessed by knowing the location (aka index) of the element\n",
    "l = [1, 2, 3, 4]\n",
    "\n",
    "# Question: How do you access the elements in index 0 and 3? Print the results.\n",
    "## NOTE: lists retain the order of elements in it but dictionary doesn't\n",
    "print(f\"Element at index 0: {l[0]}\\nElement at index 3: {l[3]}\")\n",
    "\n",
    "## Dictionary: A collection of key-value pairs, where each key is mapped to a value using a hash function. Provides fast data retrieval based on keys.\n",
    "d = {'a': 1, 'b': 2}\n",
    "\n",
    "# Question: How do you access the values associated with keys 'a' and 'b'?\n",
    "## NOTE: The dictionary cannot have duplicate keys\n",
    "print(f\"{d['a']}, {d['b']}\")\n",
    "\n",
    "## Set: A collection of unique elements that do not allow duplicates\n",
    "my_set = set()\n",
    "my_set.add(10)\n",
    "my_set.add(10)\n",
    "my_set.add(10)\n",
    "\n",
    "# Question: What will be the output of my_set? => (10)\n",
    "\n",
    "## Tuple: A collection of immutable (non-changeable) elements, tuples retain their order once created.\n",
    "my_tuple = (1, 'hello', 3.14)\n",
    "\n",
    "# Accessing elements by index\n",
    "# Question: How do you access the elements in index 0 and 1 of my_tuple?\n",
    "print(f\"Element at index 0: {my_tuple[0]}\\nElement at index 1: {my_tuple[1]}\")\n",
    "\n",
    "# Counting occurrences of an element\n",
    "count_tuple = (1, 2, 3, 1, 1, 2)\n",
    "# Question: How many times does the number 1 appear in count_tuple?\n",
    "count_tuple.count(1) # the count method can be used to count the no. of occurences\n",
    "\n",
    "# Finding the index of an element\n",
    "# Question: What is the index of the first occurrence of the number 2 in count_tuple?\n",
    "count_tuple.index(2) # returns back the index of the first occurence of the element\n",
    "\n",
    "# Loop allows a specific chunk of code to be repeated a certain number of times\n",
    "# We can loop through our data structures as shown below\n",
    "# Question: How do you loop through a list and print its elements?\n",
    "fruits = [\"apple\", \"banana\", \"cherry\"]\n",
    "for fruit in fruits:\n",
    "    print(fruit)\n",
    "\n",
    "# Dictionary loop\n",
    "# Question: How do you loop through a dictionary and print its keys and values?\n",
    "students = {\"name\": \"Joyan\", \"age\": 25, \"course\": \"CS\"}\n",
    "\n",
    "for key, value in students.items():\n",
    "    print(f\"Key: {key} - Value: {value}\")\n",
    "\n",
    "# Comprehension is a shorthand way of writing a loop\n",
    "# Question: Multiply every element in list l with 2 and print the result\n",
    "l = [elm*2 for elm in l]\n",
    "print(f\"Using list comprehension: {l}\")\n",
    "\n",
    "# Functions: A block of code that can be re-used as needed. This allows for us to have logic defined in one place, making it easy to maintain and use.\n",
    "## For example, let's create a simple function that takes a list as an input and returns another list whose values are greater than 3\n",
    "\n",
    "def gt_three(input_list):\n",
    "    return [elt for elt in input_list if elt > 3]\n",
    "## NOTE: we use list comprehension with filtering in the above function\n",
    "\n",
    "list_1 = [1, 2, 3, 4, 5, 6]\n",
    "# Question: How do you use the gt_three function to filter elements greater than 3 from list_1?\n",
    "print(f\"gt_three function to filter elements greater than 3 from list_1: {gt_three(list_1)}\")\n",
    "\n",
    "list_2 = [1, 2, 3, 1, 1, 1]\n",
    "# Question: What will be the output of gt_three(list_2)? => [] an empty list\n",
    "print(f\"output of gt_three(list_2): {gt_three(list_2)}\")\n",
    "\n",
    "# Classes and Objects\n",
    "# Think of a class as a blueprint and objects as things created based on that blueprint\n",
    "# You can define classes in Python as shown below\n",
    "class DataExtractor:\n",
    "\n",
    "    def __init__(self, some_value):\n",
    "        self.some_value = some_value\n",
    "\n",
    "    def get_connection(self):\n",
    "        # Some logic\n",
    "        # some_value is accessible using self.some_value\n",
    "        return self.some_value\n",
    "\n",
    "    def close_connection(self):\n",
    "        # Some logic\n",
    "        # some_value is accessible using self.some_value\n",
    "        pass\n",
    "\n",
    "# Question: How do you create a DataExtractor object and print its some_value attribute?\n",
    "data_extractor_object = DataExtractor(\"some_value_as_attribute\")\n",
    "print(f\"DataExtractor object and print its some_value attribute: {data_extractor_object.get_connection()}\")\n",
    "\n",
    "\n",
    "# Libraries are code that can be reused.\n",
    "# Python comes with some standard libraries to do common operations, \n",
    "# such as the datetime library to work with time (although there are better libraries)\n",
    "from datetime import datetime  # You can import library or your code from another file with the import statement\n",
    "\n",
    "# Question: How do you print the current date in the format 'YYYY MM DD'? Hint: Google strftime\n",
    "datetime.strftime(datetime.now(), \"yyyy-MM-dd\")\n",
    "\n",
    "# Exception handling: When an error occurs, we need our code to gracefully handle it without just stopping. \n",
    "# Here is how we can handle errors when the program is running\n",
    "try:\n",
    "    # Code that might raise an exception\n",
    "    pass\n",
    "except Exception as e: \n",
    "    # Code that runs if the exception occurs\n",
    "    pass\n",
    "else:\n",
    "    # Code that runs if no exception occurs\n",
    "    pass\n",
    "finally:\n",
    "    # Code that always runs, regardless of exceptions\n",
    "    pass\n",
    "\n",
    "# For example, let's consider exception handling on accessing an element that is not present in a list l\n",
    "l = [1, 2, 3, 4, 5]\n",
    "\n",
    "# Question: How do you handle an IndexError when accessing an invalid index in a list?\n",
    "# NOTE: in the except block its preferred to specify the exact erro/exception that you want to handle\n",
    "try:\n",
    "    out_of_range_index = len(l)+1\n",
    "    l[out_of_range_index] # accessing element out of range\n",
    "except IndexError:\n",
    "    print(\"IndexError\")"
   ]
  },
  {
   "cell_type": "markdown",
   "id": "0f059be6-ded6-43a2-90d7-fba6482bbb1a",
   "metadata": {},
   "source": [
    "## 3. Writing memory efficient data pipelines in Python\n",
    "https://www.startdataengineering.com/post/writing-memory-efficient-dps-in-python/\n",
    "### 1. Using Generators\n",
    "- It can be thought of as **resumable functions**\n",
    "- Normal working of a regular function\n",
    "    1. Call the function\n",
    "    2. Creates a new private namespace and local variables are created\n",
    "    3. Value is returned and the local variables are destroyed\n",
    "- The main idea behind generators is to not throw away those local variables but rather resume processing from that point\n",
    "- When you call a generator function it returns a generator object but does not execute the function immediately -> The function runs only when you iterate over the generator. **Sounds familiar to lazy evaluation, doesn't it?**\n",
    "\n",
    "#### How to Create Generators\n",
    "1. Using **yield** keyword\n",
    "\n",
    "```python\n",
    "def my_generator():\r\n",
    "    for i in range(5):\r\n",
    "        yield i\r\n",
    "\r\n",
    "# Example usage\r\n",
    "for value in my_generator():\r\n",
    "    printue\n",
    "\n",
    "\n",
    "**()**"
   ]
  },
  {
   "cell_type": "markdown",
   "id": "f1591a98-9786-4a45-9636-4d6fbaf5d4f3",
   "metadata": {},
   "source": [
    "2. Using the generator expression\n",
    "\n",
    "```python\n",
    "squares = (x**2 for x in range(1,5))\n",
    "print(next(squares)) # output -> 1\n",
    "print(next(squares)) # output -> 4\n",
    "print(next(squares)) \n",
    "```"
   ]
  },
  {
   "cell_type": "markdown",
   "id": "58c45387-de69-4a18-9a0f-804fcd2bac2b",
   "metadata": {},
   "source": [
    "#### Where can Generators come in handy for data Pipeline?\n",
    "- A data pipeline processes data in stages, where the output of one stage becomes the input for the next.\n",
    "- Generators are ideal for building these because they allow you to pass data between stages without loading all the data into memory.\n",
    "- Lazy Evaluation: Generators compute values on demand, making them suitable for handling large datasets without consuming much memory."
   ]
  },
  {
   "cell_type": "code",
   "execution_count": 11,
   "id": "995813f2-fc0a-43a9-8673-616d49297ea7",
   "metadata": {},
   "outputs": [],
   "source": [
    "# Writing an ETL pipeline with Generators\n",
    "# TASK\n",
    "'''\n",
    "Let’s say our objective is to process the parking violation 2018 dataset with the following steps:\n",
    "\n",
    "1. Keep only the violations issued by police (denoted by P in the data), to vehicles with the make FORD in NJ.\n",
    "2. Replace P with police.\n",
    "3. Concat house number, street name, and registration state fields into a single address field.\n",
    "4. Write the result’s in to a csv file with the header vehicle_make,issuing_agency,address.\n",
    "\n",
    "'''\n",
    "\n",
    "import csv\n",
    "input_file_name = \"parking-violations-issued-fiscal-year-2018.csv\"\n",
    "output_file_name = \"nj_ford_trasnportation_issued_pv_2018.csv\"\n",
    "\n",
    "# EXTRACT\n",
    "# 1. Stream the data from input file\n",
    "read_file_object = open(input_file_name, \"r\")\n",
    "extractor = csv.reader(read_file_object) # csv reader creates a generator - it does not load the complete file in memory, it yields one row at a time as you iterate.\n",
    "#next(extractor) # prints the headers\n",
    "#next(extractor) # prints the first row\n",
    "\n",
    "\n",
    "# 2. Keep only required fields\n",
    "# 2 => registration state, 7 => vehicle make, 8 => issuing agency, 23 => house number, 24 => street name\n",
    "col_filtered_stream = ([row[2], row[7], row[8], row[23], row[24]] for row in extractor)\n",
    "# everytime you call the extractor one row will be passed\n",
    "# Note we are using the () expression to create a generator\n",
    "\n",
    "# TRANSFORM\n",
    "# 3. keep only violations issued by police, to vehicles with the make FORD in NJ\n",
    "value_filtered_stream = filter(lambda x: all([x[0]=='NJ', x[1]=='FORD',x[2]=='p']), \n",
    "                               col_filtered_stream\n",
    "                              )\n",
    "\n",
    "# 4. replace p with police\n",
    "transformed_stream = (\n",
    "                        [stream[0], stream[1], \"police\", stream[3], stream[4]]\n",
    "                        for stream in value_filtered_stream\n",
    "                        )\n",
    "\n",
    "# 5. concat house number, street name, registration state into a single address field\n",
    "final_stream = (\n",
    "                    [stream[1], stream[2], \", \".join([stream[3], stream[4], stream[0]])]\n",
    "                    for stream in transformed_stream\n",
    ")\n",
    "\n",
    "final_stream  # this is a generator object and has not yet started generating data\n",
    "\n",
    "# LOAD\n",
    "# 6. write a header row for output data\n",
    "write_file_object = open(output_file_name, \"w\")\n",
    "loader = csv.writer(\n",
    "    write_file_object, delimiter=\",\", quotechar='\"', quoting=csv.QUOTE_MINIMAL\n",
    ")\n",
    "header = [\"vehicle_make\", \"issuing_agency\", \"address\"]\n",
    "loader.writerow(header)\n",
    "\n",
    "# 7. stream data into an output file\n",
    "loader.writerows(final_stream)  # loader asks for data from final_stream\n",
    "# Data is pulled from the generator chain (final_stream → transformed_stream → value_filtered_stream → col_filtered_stream → extractor)."
   ]
  },
  {
   "cell_type": "markdown",
   "id": "c737a35a-6f06-4780-bacf-1a51cb2fbba1",
   "metadata": {},
   "source": [
    "#### Reading in Batches with Generators\n",
    "- When pulling data from a large database you need to make a tradeoff between\n",
    "    - memory: pulling complete dataset might lead to out of memory issues\n",
    "    - cost: loading one row at a time can incur expensive network calls\n",
    "- A good tradeoff would be to fetch data in batches. The size of a batch will depend on the memory available and speed requirements of your data pipeline."
   ]
  },
  {
   "cell_type": "code",
   "execution_count": null,
   "id": "ea840936-d9d4-4792-9ef1-694bcf5cca7f",
   "metadata": {},
   "outputs": [],
   "source": [
    "import psycopg2\n",
    "\n",
    "def generate_from_db(username, password, host, port, dbname, batch_size=10000):\n",
    "    conn_url = f\"postgresql://{username}:{password}@{host}:{port}/{dbname}\"\n",
    "\n",
    "    conn = psycopg2.connect(conn_url)\n",
    "    cur = conn.cursor(name=\"get_large_data\")\n",
    "    cur.execute(\n",
    "        \"SELECT c1,c2,c3 FROM big_table\"\n",
    "    )  # this will get the data ready on the db side\n",
    "\n",
    "    while True:\n",
    "        rows = cur.fetchmany(\n",
    "            batch_size\n",
    "        )  # this will fetch data in batches from the ready data in db\n",
    "        if not rows:\n",
    "            break\n",
    "        yield from rows\n",
    "\n",
    "    cur.close()\n",
    "    conn.close()\n",
    "\n",
    "next(generate_from_db(\"username\", \"password\", \"host\", 5432, \"database\"))"
   ]
  },
  {
   "cell_type": "markdown",
   "id": "520e0000-3326-490e-93be-c0733b6393aa",
   "metadata": {},
   "source": [
    "#### Pros and Cons of Generators\n",
    "| **Aspect**               | **Pros**                                                                                 | **Cons**                                                                                   |\r\n",
    "|--------------------------|------------------------------------------------------------------------------------------|-------------------------------------------------------------------------------------------|\r\n",
    "| **Memory Efficiency**     | Processes one item at a time, avoiding large memory usage.                              | Cannot hold the entire dataset in memory, limiting random access.                         |\r\n",
    "| **Lazy Evaluation**       | Computes values only when needed, saving computation time.                              | Errors may surface late, making debugging harder.                                         |\r\n",
    "| **Chaining & Composition**| Modular pipeline stages improve readability and maintainability.                        | Complex pipelines can be harder to debug and test.                                        |\r\n",
    "| **Scalability**           | Suitable for streaming or very large datasets.                                          | Single-threaded processing limits scalability in parallel or distributed systems.         |\r\n",
    "| **I/O Efficiency**        | Handles data incrementally, reducing latency for large file operations.                 | Requires careful resource management (e.g., closing files manually).                      |\r\n",
    "| **Clean Syntax**          | Python generator expressions are concise and intuitive for simple tasks.                | Writing complex pipelines with generators may have a steeper learning curve.              |\r\n",
    "| **Random Access**         | Not applicable as generators yield values sequentially.                                 | Revisiting data requires restarting the generator or storing intermediate results.         |\r\n",
    "| **Debugging**             | Efficient and straightforward for small, linear tasks.                                  | Debugging lazy execution errors can be challenging.                                       |\r\n",
    "| **Built-in Features**     | Works seamlessly with `itertools` and Python’s standard library for basic operations.   | Lacks advanced features like grouping or sorting without converting to lists.             |\r\n",
    "| **Parallelism**           | Lightweight and works well for sequential processing.                                   | Cannot leverage multi-core CPUs or distributed systems without additional libraries.       |\r\n",
    "| **State Management**      | Generators maintain state internally, simplifying incremental tasks.                    | Once exhausted, they cannot be reused without restarting the pipeline.                    |\r"
   ]
  },
  {
   "cell_type": "markdown",
   "id": "2a948cf1-bdec-4d2f-ae12-79cfada55257",
   "metadata": {},
   "source": [
    "### 2. Using distributed frameworks\n",
    "- Examples include Apache Spark, Flink or Dask\n",
    "- It's not always required to go for distributed frameworks unless you expect the workload to grow significantly\n",
    "- Distributed frameworks allows some tasks to be processed parallely -> faster\n",
    "- If your data itself is distributed like HDFS or cloud storage then with distributed frameworks the calculations can be formed where the data resides, avoiding costly data transfer to a single location."
   ]
  },
  {
   "cell_type": "markdown",
   "id": "b268d592-23da-420e-a992-ef1be44511a1",
   "metadata": {},
   "source": [
    "## 4. Dataclasses\n",
    "- It's a module in python that provides the ability to define data objects using the `@dataclass` decorator\n",
    "- Designed to represent data in Python\n",
    "- It's meant to reduce bolierplate code for classes that are essentially data containers (classes that show how the data is stored)\n",
    "### Why use dataclasses\n",
    "- Supports creating immutable classes using `frozen=True` parameter\n",
    "- Automatically generates methods like __init__, __repr__, __eq__, etc., based on class attributes -> lesser boilerplate code\n",
    "- Encourages the use of type hints\n",
    "\n",
    "### When to avoid Dataclasses\n",
    "- For simple data structures like a dictionary then you don't need a data class as creating one has a slight overhead"
   ]
  },
  {
   "cell_type": "code",
   "execution_count": 2,
   "id": "9dc3589d-f2d0-4e1d-ab9f-0dec24c44dd1",
   "metadata": {},
   "outputs": [
    {
     "name": "stdout",
     "output_type": "stream",
     "text": [
      "Car(make='Ford', model='Mustang', year='2022')\n"
     ]
    }
   ],
   "source": [
    "from dataclasses import dataclass\n",
    "\n",
    "@dataclass\n",
    "class Car:\n",
    "    make: str\n",
    "    model: str\n",
    "    year: int\n",
    "\n",
    "# Creating an instance\n",
    "car1 = Car(make=\"Ford\", model=\"Mustang\", year=\"2022\")\n",
    "\n",
    "print(car1)"
   ]
  },
  {
   "cell_type": "code",
   "execution_count": 1,
   "id": "73c11695-29d6-49f8-b5dc-f60687395a6d",
   "metadata": {},
   "outputs": [
    {
     "name": "stdout",
     "output_type": "stream",
     "text": [
      "2999.9700000000003\n",
      "Product(name='Laptop', price=999.99, quantity=3, tags=[])\n"
     ]
    }
   ],
   "source": [
    "from dataclasses import dataclass, field\n",
    "\n",
    "@dataclass\n",
    "class Product:\n",
    "    name: str\n",
    "    price: float\n",
    "    quantity: int = 0 #int with a default value of 0\n",
    "    tags: list[str] = field(default_factory=list) # unique mutable default value for each instance\n",
    "\n",
    "    def total_cost(self) -> float:\n",
    "        return self.price * self.quantity\n",
    "\n",
    "# Example\n",
    "product = Product(name=\"Laptop\", price=999.99, quantity=3)\n",
    "print(product.total_cost())  # 2999.97\n",
    "print(product)  # Product(name='Laptop', price=999.99, quantity=3, tags=[])"
   ]
  },
  {
   "cell_type": "code",
   "execution_count": 11,
   "id": "56365649-3e79-4775-b6db-1cc992003ffd",
   "metadata": {},
   "outputs": [
    {
     "name": "stdout",
     "output_type": "stream",
     "text": [
      "-3550055125485641917\n"
     ]
    },
    {
     "ename": "FrozenInstanceError",
     "evalue": "cannot assign to field 'x'",
     "output_type": "error",
     "traceback": [
      "\u001b[1;31m---------------------------------------------------------------------------\u001b[0m",
      "\u001b[1;31mFrozenInstanceError\u001b[0m                       Traceback (most recent call last)",
      "Cell \u001b[1;32mIn[11], line 10\u001b[0m\n\u001b[0;32m      7\u001b[0m \u001b[38;5;28mprint\u001b[39m(\u001b[38;5;28mhash\u001b[39m(point))  \u001b[38;5;66;03m# Instances are hashable\u001b[39;00m\n\u001b[0;32m      9\u001b[0m \u001b[38;5;66;03m# Attempting to modify an attribute raises an error\u001b[39;00m\n\u001b[1;32m---> 10\u001b[0m point\u001b[38;5;241m.\u001b[39mx \u001b[38;5;241m=\u001b[39m \u001b[38;5;241m5\u001b[39m\n",
      "File \u001b[1;32m<string>:4\u001b[0m, in \u001b[0;36m__setattr__\u001b[1;34m(self, name, value)\u001b[0m\n",
      "\u001b[1;31mFrozenInstanceError\u001b[0m: cannot assign to field 'x'"
     ]
    }
   ],
   "source": [
    "@dataclass(frozen=True)\n",
    "class Point:\n",
    "    x: int\n",
    "    y: int\n",
    "\n",
    "point = Point(1, 2)\n",
    "print(hash(point))  # Instances are hashable\n",
    "\n",
    "# Attempting to modify an attribute raises an error\n",
    "point.x = 5  # Raises: FrozenInstanceError"
   ]
  },
  {
   "cell_type": "markdown",
   "id": "88c9aa55-3797-422a-8bb0-b6de7cb764d7",
   "metadata": {},
   "source": [
    "## 5. Type Hints\n",
    "- These are the annotations that specify the expected data types of variables, function parameters and return values\n",
    "- It enables static type checking using libraries like `mypy`\n",
    "- `mypy` is a static type checker for Python.\n",
    "    - It analyzes your code before runtime to ensure that type annotations are respected.\n",
    "    - For example, if a function expects an integer and you pass a string, mypy will flag an error."
   ]
  },
  {
   "cell_type": "code",
   "execution_count": 16,
   "id": "9010b14e-5abd-4fde-8273-278c495c167e",
   "metadata": {},
   "outputs": [],
   "source": [
    "from typing import List\n",
    "from dataclasses import dataclass\n",
    "\n",
    "@dataclass\n",
    "class SocialMediaData:\n",
    "    id: str\n",
    "    content: str\n",
    "    timestamp: str\n",
    "    # Add other attributes as needed\n",
    "\n",
    "class SocialETL():\n",
    "    pass\n",
    "    \n",
    "class RedditETL(SocialETL): # inheriting from SocialETL\n",
    "    def extract(self,\n",
    "               id: str,    # Expected to be a string\n",
    "               num_records: int # Expected to be a integer\n",
    "               #,client: praw.Reddit,  # Expected to be a Reddit client object (from the praw library)\n",
    "               ) -> List[SocialMediaData]: # Returns a list of SocialMediaData objects\n",
    "        pass\n"
   ]
  },
  {
   "cell_type": "markdown",
   "id": "f4767ddf-aa1e-4c63-8e93-244149779bd4",
   "metadata": {},
   "source": [
    "#### Using Type Hints for Higher Order Functions\n",
    "- Higher Order Functions => functions that return other functions or take functions as arguements\n",
    "\n",
    "`Callable[[List[SocialMediaData]], List[SocialMediaData]]` represents a function:\n",
    "- Input: A list of `SocialMediaData`.\n",
    "- Output: Another list of `SocialMediaData`."
   ]
  },
  {
   "cell_type": "code",
   "execution_count": 18,
   "id": "31e6819d-841b-4c18-808e-de0cd262b0c9",
   "metadata": {},
   "outputs": [],
   "source": [
    "from typing import Callable, List\n",
    "\n",
    "def transformation_factory(value: str) -> Callable[[List[SocialMediaData]], List[SocialMediaData]]:\n",
    "    # A dictionary of transformation functions\n",
    "    factory = {\n",
    "        'sd': standard_deviation_outlier_filter,\n",
    "        'no_tx': no_transformation,\n",
    "        'rand': random_choice_filter,\n",
    "    }\n",
    "    return factory[value]\n",
    "\n",
    "\n",
    "# Get the transformation function for 'sd'\n",
    "#transformation = transformation_factory('sd')\n",
    "\n",
    "# Apply the returned function to a list of SocialMediaData\n",
    "#transformed_data = transformation(data_list)"
   ]
  },
  {
   "cell_type": "markdown",
   "id": "8b4cfd1f-9ba8-4d89-bf87-bc5157460bf6",
   "metadata": {},
   "source": [
    "## 6. Itertools\n",
    "- **Iterator** - an object representing a stream of data, it's the output of a generator function\n",
    "- Itertools provides functions to work with iterators\n",
    "- Supports processing data in steps instead of getting the complete data set into memory\n",
    "\n",
    "### Key Functions\n",
    "\n",
    "**Generating Data**\n",
    "- `count(start, step)`: Generates numbers forever (useful for indexing or filling data).\n",
    "- `cycle(iterable)` : Repeats a list over and over\n",
    "- `repeat(value, times)` : Repeats a value multiple times.\n",
    "\n",
    "**Combining and Filtering**\n",
    "- `chain()`: Combines multiple lists into one\n",
    "- `islice()` : picks a part of the data without creating a new list\n",
    "- `compress()` : Filters items in a list based on another list of True/False values (like a mask).\n",
    "\n",
    "**Aggregation and Grouping**\n",
    "- `accumulate()` : For running totals or sum\n",
    "- `groupby()` : Groups items based on a common key (like grouping data by a category).\n",
    "- `batch(iterable, length)` : Batch data from the iterable into tuples of length n. If last batch is shorter than n then it can raise `ValueError` if `strict=True`\n",
    "\n",
    "**Generating Combinations and Permutations**\n",
    "- `product()` : Finds all combinations of items from 2 or more lists\n",
    "- `combinations()` : Find all subsets of specified size\n",
    "- `permutations()` : Finds all possible arrangements of items."
   ]
  },
  {
   "cell_type": "code",
   "execution_count": 17,
   "id": "1c504727-251c-46b1-9147-12a50aab375f",
   "metadata": {},
   "outputs": [
    {
     "name": "stdout",
     "output_type": "stream",
     "text": [
      "Using count function\n",
      "10\n",
      "15\n",
      "20\n",
      "25\n",
      "30\n",
      "Using cycle function\n",
      "A\n",
      "B\n",
      "C\n",
      "A\n",
      "B\n",
      "C\n",
      "Using chain function\n",
      "[1, 2, 3, 4, 5, 6]\n",
      "Using islice function\n",
      "[1, 2, 3, 4, 5]\n",
      "Using compress function\n",
      "['A', 'B', 'C']\n",
      "Using accumulate function\n",
      "[1, 3, 6, 10]\n",
      "Using Groupby function\n",
      "a ['apple', 'apricot']\n",
      "b ['banana', 'blueberry']\n",
      "Using product function\n",
      "[(1, 'A'), (1, 'B'), (2, 'A'), (2, 'B')]\n",
      "Using combinations function\n",
      "[(1, 2), (1, 3), (2, 3)]\n",
      "Using permutations function\n",
      "[(1, 2, 3), (1, 3, 2), (2, 1, 3), (2, 3, 1), (3, 1, 2), (3, 2, 1)]\n"
     ]
    }
   ],
   "source": [
    "from itertools import *\n",
    "\n",
    "# generate number starting from 10\n",
    "print(\"Using count function\")\n",
    "for i in count(start=10, step=5):\n",
    "    if i>30:\n",
    "        break # else it will keep going\n",
    "    print(i)\n",
    "\n",
    "cycle_pattern = cycle(['A','B','C'])\n",
    "print(\"Using cycle function\")\n",
    "for i in range(6):\n",
    "    print(next(cycle_pattern)) \n",
    "\n",
    "print(\"Using chain function\")\n",
    "# Example: Combine two lists\n",
    "data1 = [1, 2, 3]\n",
    "data2 = [4, 5, 6]\n",
    "combined = list(chain(data1, data2))\n",
    "print(combined)\n",
    "# Output: [1, 2, 3, 4, 5, 6]\n",
    "\n",
    "print(\"Using islice function\")\n",
    "infinite_numbers = count(1)\n",
    "print(list(islice(infinite_numbers, 5))) # print upto 5\n",
    "\n",
    "\n",
    "# Example: Filter items based on a mask\n",
    "print(\"Using compress function\")\n",
    "data = ['A', 'B', 'C', 'D']\n",
    "mask = [True, True, True, False]\n",
    "filtered = list(compress(data, mask))\n",
    "print(filtered)\n",
    "\n",
    "\n",
    "print(\"Using accumulate function\")\n",
    "data = [1, 2, 3, 4]\n",
    "print(list(accumulate(data)))\n",
    "\n",
    "\n",
    "# Example: Group data by the first letter\n",
    "print(\"Using Groupby function\")\n",
    "data = ['apple', 'apricot', 'banana', 'blueberry']\n",
    "grouped = groupby(data, key=lambda x: x[0])  # Group by first letter\n",
    "for key, group in grouped:\n",
    "    print(key, list(group))\n",
    "\n",
    "\n",
    "print(\"Using product function\")\n",
    "print(list(product([1, 2], ['A', 'B'])))\n",
    "\n",
    "print(\"Using combinations function\")\n",
    "print(list(combinations([1, 2, 3], 2))) # all 2 item combinations from list [1,2,3]\n",
    "\n",
    "print(\"Using permutations function\")\n",
    "print(list(permutations([1, 2, 3])))"
   ]
  },
  {
   "cell_type": "code",
   "execution_count": 20,
   "id": "eab38bec-d17a-4476-ab43-2ab3cef1685b",
   "metadata": {},
   "outputs": [
    {
     "name": "stdout",
     "output_type": "stream",
     "text": [
      "Output of filter: <filter object at 0x00000206607CF100>\n",
      "Output of sorted: [(101, 'Electronics', 200), (102, 'Electronics', 150), (108, 'Electronics', 120), (103, 'Furniture', 300), (109, 'Furniture', 200)]\n",
      "Output of grouped_sales: <itertools.groupby object at 0x00000206600184F0>\n",
      "Top Categories by Sales:\n",
      "Furniture: $500\n",
      "Electronics: $470\n"
     ]
    }
   ],
   "source": [
    "'''\n",
    "Let’s build a simple data pipeline using itertools to demonstrate how it can process and transform data efficiently. \n",
    "Imagine we have a stream of sales data (e.g., product sales) that we need to:\n",
    "\n",
    "Filter the data to include only specific products.\n",
    "Group the data by product categories.\n",
    "Calculate cumulative sales for each category.\n",
    "Display the top categories with the highest sales.\n",
    "'''\n",
    "\n",
    "# Sample sales data: (Product ID, Category, Sale Amount)\n",
    "sales_data = [\n",
    "    (101, 'Electronics', 200),\n",
    "    (102, 'Electronics', 150),\n",
    "    (103, 'Furniture', 300),\n",
    "    (104, 'Electronics', 100),\n",
    "    (105, 'Furniture', 50),\n",
    "    (106, 'Clothing', 70),\n",
    "    (107, 'Clothing', 30),\n",
    "    (108, 'Electronics', 120),\n",
    "    (109, 'Furniture', 200),\n",
    "    (110, 'Clothing', 90),\n",
    "]\n",
    "\n",
    "# Step 1: Filter sales above a certain threshold (e.g., $100)\n",
    "filtered_sales = filter(lambda x: x[2] > 100, sales_data)\n",
    "print(f\"Output of filter: {filtered_sales}\")\n",
    "\n",
    "# Step 2: Sort the filtered data by category (required for groupby to work)\n",
    "sorted_sales = sorted(filtered_sales, key=lambda x: x[1])\n",
    "print(f\"Output of sorted: {sorted_sales}\")\n",
    "\n",
    "# Step 3: Group sales by category\n",
    "grouped_sales  = groupby(sorted_sales, key=lambda x: x[1])\n",
    "print(f\"Output of grouped_sales: {grouped_sales}\")\n",
    "\n",
    "# Step 4: Calculate cumulative sales for each category\n",
    "result = {}\n",
    "for category, group in grouped_sales:\n",
    "    total_sales = sum(item[2] for item in group)\n",
    "    result[category] = total_sales\n",
    "\n",
    "# Step 5: Sort the categories by total sales (descending)\n",
    "sorted_result = sorted(result.items(), key=lambda x: x[1], reverse=True)\n",
    "\n",
    "# Step 6: Display the top categories\n",
    "print(\"Top Categories by Sales:\")\n",
    "for category, total in sorted_result:\n",
    "    print(f\"{category}: ${total}\")"
   ]
  },
  {
   "cell_type": "markdown",
   "id": "42a099cf-13b1-4e06-af2c-84659a6046c0",
   "metadata": {},
   "source": [
    "## 7. Functools\n",
    "- Module for higher order functions (covered above: functions that act on or return other functions)\r\n",
    "\r\n",
    "#### Key Features of `functools`\r\n",
    "\r\n",
    "Here are the most commonly used functions from the `functools` module:\r\n",
    "\r\n",
    "1. **`functools.reduce()`**\r\n",
    "2. **`functools.partial()`**\r\n",
    "3. **`functools.lru_cache()`**\r\n",
    "4. **`functools.w`ming**: Easily manipulate and transform data streams with `reduce()`.\r\n",
    "\r\n",
    "Let me know if you’d like to dive deeper into any specific part or try a custom example! 😊"
   ]
  },
  {
   "cell_type": "markdown",
   "id": "3b7f25ec-0325-439c-8546-b08538624d15",
   "metadata": {},
   "source": [
    "## 8. Regex\n",
    "- Regular expression is a specialized programming language that is embedded in Python using `re` module\n",
    "- **Primary Use Cases**\n",
    "    - Finding specific patterns in text\n",
    "    - Validating inputs like email address\n",
    "    - Replacing substrings\n",
    "    - Extracting information from text\n",
    "\n",
    "**Commonly Used Regex Patterns**\n",
    "1. `.` - Matches any character except a new line\n",
    "\n",
    "2. `^` - Matches the start of the string\n",
    "\n",
    "3. `$` - Matches the end of the string\n",
    "\n",
    "4. `*` - Matches 0 or more repetitions of the preceding character.\n",
    "\n",
    "5. `+` - Matches 1 or more repetitions of the preceding character.\n",
    "\n",
    "6. `?` - Matches 0 or 1 repetition of the preceding character.\n",
    "\n",
    "7. `{n}` - Matches excatly n repetition of the preceding character.\n",
    "\n",
    "8. `{n, m}` - Matches between n to m repetition of the preceding character.\n",
    "\n",
    "9. `[]` - Matches any one character within the bracket\n",
    "\n",
    "10. `[^]` - Matches any character NOT inside the brackets.\n",
    "\n",
    "11. `\\d` - Matches any digit (0–9).\n",
    "\n",
    "12. `\\D` - Matches any NON digit (0–9).\n",
    "\n",
    "13. `\\w` - Matches any word character (letters, digits, underscores).\n",
    "\n",
    "14. `\\W` - Matches any non-word character (!, @, #)"
   ]
  },
  {
   "cell_type": "code",
   "execution_count": 1,
   "id": "f9d6a5fc-6289-488d-b47c-89644b13b749",
   "metadata": {},
   "outputs": [
    {
     "name": "stdout",
     "output_type": "stream",
     "text": [
      "Found match: 2\n",
      "All matching patterns: ['2', '3']\n",
      "['apple', 'banana', 'cherry', 'date']\n",
      "I have #this_num_got_replaced apples and #this_num_got_replaced bananas.\n",
      "Ja, es fangt mit hello an\n",
      "Entire string matches 'hello world'\n"
     ]
    }
   ],
   "source": [
    "import re\n",
    "\n",
    "# SEARCH FOR A PATTERN\n",
    "text = \"I have 2 apples and 3 bananas.\"\n",
    "match = re.search(r\"\\d\", text)  # Finds the first digit\n",
    "if match:\n",
    "    print(f\"Found match: {match.group()}\")\n",
    "\n",
    "matches = re.findall(r\"\\d\", text)  # Finds the first digit\n",
    "print(f\"All matching patterns: {matches}\")\n",
    "\n",
    "# SPLITTING\n",
    "text = \"apple,banana;cherry|date\"\n",
    "result = re.split(r\"[,;|]\", text)  # Split by comma, semicolon, or pipe\n",
    "print(result)  # Output: ['apple', 'banana', 'cherry', 'date']\n",
    "\n",
    "# REPLACING\n",
    "text = \"I have 2 apples and 3 bananas.\"\n",
    "new_text  = re.sub(r\"\\d\", \"#this_num_got_replaced\", text) # replace all digits with '#'\n",
    "print(new_text)\n",
    "\n",
    "# MATCHING PATTERNS\n",
    "text = \"hello world\"\n",
    "\n",
    "# if I want to check if text STARTS with hello then\n",
    "if re.match(r\"^hello\", text):\n",
    "    print(\"Ja, es fangt mit hello an\")\n",
    "\n",
    "# Check if the entire string matches \"hello world\"\n",
    "if re.fullmatch(r\"hello world\", text):\n",
    "    print(\"Entire string matches 'hello world'\")"
   ]
  },
  {
   "cell_type": "code",
   "execution_count": 23,
   "id": "76bbc0ce-5a04-425f-b7d4-c69c4c577823",
   "metadata": {},
   "outputs": [
    {
     "name": "stdout",
     "output_type": "stream",
     "text": [
      "Valid email\n"
     ]
    }
   ],
   "source": [
    "email = \"example@gmail.com\"\n",
    "if re.fullmatch(r\"[a-zA-Z0-9._%+-]+@[a-zA-Z0-9.-]+\\.[a-zA-Z]{2,}\", email):\n",
    "    print(\"Valid email\")\n",
    "else:\n",
    "    print(\"Invalid email\")"
   ]
  },
  {
   "cell_type": "code",
   "execution_count": 25,
   "id": "b10d7f7f-3f7a-4a19-b3bb-2fdd037da902",
   "metadata": {},
   "outputs": [
    {
     "name": "stdout",
     "output_type": "stream",
     "text": [
      "2025-01-01\n"
     ]
    }
   ],
   "source": [
    "log = \"2025-01-01 ERROR: Something went wrong\"\n",
    "date = re.search(r\"\\d{4}-\\d{2}-\\d{2}\", log)  # Extract date\n",
    "print(date.group())"
   ]
  },
  {
   "cell_type": "code",
   "execution_count": 39,
   "id": "54254dbf-64ac-4ba9-96be-00156674a1d7",
   "metadata": {},
   "outputs": [
    {
     "name": "stdout",
     "output_type": "stream",
     "text": [
      "Python present: PyTHon\n"
     ]
    }
   ],
   "source": [
    "'''\n",
    "Match a Word:\n",
    "Write a regex to check if a string contains the word python (case-insensitive).\n",
    "Example:\n",
    "Input: \"I love Python programming\"\n",
    "Output: Match found (python).\n",
    "'''\n",
    "text = 'I love PyTHon'\n",
    "match = re.search(r\"python\", text, re.IGNORECASE)\n",
    "if match:\n",
    "    print(f\"Python present: {match.group()}\")"
   ]
  },
  {
   "cell_type": "code",
   "execution_count": 47,
   "id": "39dfdc6f-33f4-4726-927d-5c96bded6cba",
   "metadata": {},
   "outputs": [
    {
     "data": {
      "text/plain": [
       "['42', '15']"
      ]
     },
     "execution_count": 47,
     "metadata": {},
     "output_type": "execute_result"
    }
   ],
   "source": [
    "'''\n",
    "Match Digits:\n",
    "Find all digits in a given string.\n",
    "Example:\n",
    "Input: \"The price is 42 dollars and 15 cents.\"\n",
    "Output: ['42', '15']\n",
    "'''\n",
    "text = \"The price is 42 dollars and 15 cents.\"\n",
    "re.findall(r\"\\d+\", text) # matches one of more digits"
   ]
  },
  {
   "cell_type": "code",
   "execution_count": 7,
   "id": "6278fe18-8300-40b3-bb80-10f12d1edd56",
   "metadata": {},
   "outputs": [
    {
     "name": "stdout",
     "output_type": "stream",
     "text": [
      "['support@example.com', 'sales@company.org']\n"
     ]
    }
   ],
   "source": [
    "'''\n",
    "Match Email Addresses:\n",
    "Write a regex to extract all email addresses from a string.\n",
    "Example:\n",
    "Input: \"Contact us at support@example.com or sales@company.org\"\n",
    "Output: ['support@example.com', 'sales@company.org']\n",
    "'''\n",
    "\n",
    "pattern = r\"[a-zA-Z\\d._%+-]+@[a-zA-Z0-9.-]+\\.[a-zA-Z]{2,}\"\n",
    "text = \"Contact us at support@example.com or sales@company.org\"\n",
    "emails = re.findall(pattern, text)\n",
    "print(emails)"
   ]
  },
  {
   "cell_type": "code",
   "execution_count": 8,
   "id": "6b54a950-7775-4750-8e39-24a4fac66cd9",
   "metadata": {},
   "outputs": [
    {
     "data": {
      "text/plain": [
       "['01-01-2025', '15-12-2024']"
      ]
     },
     "execution_count": 8,
     "metadata": {},
     "output_type": "execute_result"
    }
   ],
   "source": [
    "'''\n",
    "Match Dates (Basic):\n",
    "Match dates in the format dd-mm-yyyy.\n",
    "Example:\n",
    "Input: \"The event is on 01-01-2025, and registration ends by 15-12-2024.\"\n",
    "Output: ['01-01-2025', '15-12-2024']\n",
    "'''\n",
    "\n",
    "text = \"The event is on 01-01-2025, and registration ends by 15-12-2024.\"\n",
    "pattern = r\"\\d{2}-\\d{2}-\\d{4}\"\n",
    "re.findall(pattern, text)"
   ]
  },
  {
   "cell_type": "code",
   "execution_count": 9,
   "id": "5ee964e5-eda7-4e2e-befe-af8e5a23e98f",
   "metadata": {},
   "outputs": [
    {
     "data": {
      "text/plain": [
       "['apple', 'banana', 'cherry', 'date']"
      ]
     },
     "execution_count": 9,
     "metadata": {},
     "output_type": "execute_result"
    }
   ],
   "source": [
    "'''\n",
    "Split by Delimiters:\n",
    "Split a string by commas, semicolons, or spaces.\n",
    "Example:\n",
    "Input: \"apple,banana;cherry date\"\n",
    "Output: ['apple', 'banana', 'cherry', 'date']\n",
    "'''\n",
    "split_pattern = r\"[,;\\s]\"\n",
    "text = \"apple,banana;cherry date\"\n",
    "re.split(split_pattern, text)"
   ]
  },
  {
   "cell_type": "code",
   "execution_count": 19,
   "id": "dbc5cffe-f0c1-4ee0-a352-72d7abe1f024",
   "metadata": {},
   "outputs": [
    {
     "data": {
      "text/plain": [
       "['(123) 456-7890', '123-456-7890', '123.456.7890']"
      ]
     },
     "execution_count": 19,
     "metadata": {},
     "output_type": "execute_result"
    }
   ],
   "source": [
    "'''\n",
    "Match Valid Phone Numbers:\n",
    "Match phone numbers in these formats: (123) 456-7890, 123-456-7890, 123.456.7890.\n",
    "Example:\n",
    "Input: \"Call me at (123) 456-7890 or 123-456-7890.\"\n",
    "Output: ['(123) 456-7890', '123-456-7890']\n",
    "'''\n",
    "pattern = r\"\\(?\\d{3}\\)?[.\\-\\s]\\d{3}[.\\-\\s]\\d{4}\"\n",
    "text = \"Call me at (123) 456-7890 or 123-456-7890, 123.456.7890.\"\n",
    "re.findall(pattern, text)"
   ]
  },
  {
   "cell_type": "code",
   "execution_count": 20,
   "id": "ff2663ec-c527-4681-874f-44dc920dc3fd",
   "metadata": {},
   "outputs": [
    {
     "data": {
      "text/plain": [
       "['192.168.1.1', '10.0.0.255']"
      ]
     },
     "execution_count": 20,
     "metadata": {},
     "output_type": "execute_result"
    }
   ],
   "source": [
    "'''\n",
    "Extract IP Addresses:\n",
    "Write a regex to extract all valid IPv4 addresses from a string.\n",
    "Example:\n",
    "Input: \"The server IPs are 192.168.1.1 and 10.0.0.255.\"\n",
    "Output: ['192.168.1.1', '10.0.0.255']\n",
    "'''\n",
    "pattern = r\"\\d{1,}.\\d{1,}.\\d{1,}.\\d{1,}\"\n",
    "text = \"The server IPs are 192.168.1.1 and 10.0.0.255.\"\n",
    "re.findall(pattern, text)"
   ]
  },
  {
   "cell_type": "code",
   "execution_count": 30,
   "id": "f489dec4-f046-455a-896c-745c8224dc79",
   "metadata": {},
   "outputs": [
    {
     "data": {
      "text/plain": [
       "['https://example.com', 'http://test.org']"
      ]
     },
     "execution_count": 30,
     "metadata": {},
     "output_type": "execute_result"
    }
   ],
   "source": [
    "'''\n",
    "Match URLs:\n",
    "Extract all valid URLs from a string.\n",
    "Example:\n",
    "Input: \"Visit https://example.com or http://test.org for more details.\"\n",
    "Output: ['https://example.com', 'http://test.org']\n",
    "'''\n",
    "pattern = r\"http.?\\:?\\//?[a-zA-Z0-9.-]+\\.[a-zA-Z]{2,}\"\n",
    "text = \"Visit https://example.com or http://test.org for more details.\"\n",
    "re.findall(pattern, text)"
   ]
  },
  {
   "cell_type": "markdown",
   "id": "02c86efa-a1ee-453d-b2b6-ca15423c7db6",
   "metadata": {},
   "source": [
    "## 9. Shallow Copy vs Deep Copy\n",
    "- When you use the assignment operator in python you are not creating copies of an object, it's simply sharing references\n",
    "- One thing to note is that, when we are talking about shallow vs deep it only concerns mutable data types; immutable data types `int, str, tuple()` cannot be changed \n",
    "\n",
    "```python\n",
    "a = [1,2,3]\n",
    "b = a # using assignment operator to create a \"copy\"\n",
    "\n",
    "b[1] = 5\n",
    "print(a) # output: [1,5,3]\n",
    "print(b) # output: [1,5,3]\n",
    "\n",
    "```\n",
    "\n",
    "- that's why we have the `copy` module which allows us to create two types of copies - **Shallow and Deep**\n",
    "\n",
    "### Shallow Copy\n",
    "- Creates a new object but does not recursively copy the contents of the original, which basically means that it only creates a first level copy.\n",
    "- **Recursive Copy** : A complete copy including all the nested lists, dicts etc\n",
    "- Shallow copies are faster and use less memory. They’re useful when you only need to create a new top-level container but don’t mind sharing references to inner objects.\n",
    "- **Use Case** : Suitable when nested objects won't change.\n",
    "  \n",
    "#### Ways to create shallow copy\n",
    "1. Using `copy.copy(object)`\n",
    "2. To create a shallow copy of list you can use slicing operator => `new_copy = orginal_list[:]`\n",
    "3. Using the list() or dict() constructors.\n",
    "\n",
    "### Deep Copy\n",
    "- It is a recursive copy of an object, so that means it creates a copy of all the nested elements as well\n",
    "- Changes to deep copy object does not affect the orginal and vice versa"
   ]
  },
  {
   "cell_type": "code",
   "execution_count": 31,
   "id": "e6652724-a7fb-45e6-8d1c-e204ef53b759",
   "metadata": {},
   "outputs": [
    {
     "name": "stdout",
     "output_type": "stream",
     "text": [
      "Original List: [1, 2, [99, 4]]\n",
      "Shallow Copy: [1, 2, [99, 4]]\n"
     ]
    }
   ],
   "source": [
    "import copy\n",
    "\n",
    "# Original list with nested structure\n",
    "original_list = [1, 2, [3, 4]]\n",
    "\n",
    "# Create a shallow copy\n",
    "shallow_copy = copy.copy(original_list)\n",
    "\n",
    "# Modify the nested list\n",
    "shallow_copy[2][0] = 99\n",
    "\n",
    "# Observe the results\n",
    "print(\"Original List:\", original_list)  # [1, 2, [99, 4]]\n",
    "print(\"Shallow Copy:\", shallow_copy)    # [1, 2, [99, 4]]"
   ]
  },
  {
   "cell_type": "code",
   "execution_count": 38,
   "id": "23cd42b6-f360-4782-8fa4-7ce59173cddc",
   "metadata": {},
   "outputs": [
    {
     "name": "stdout",
     "output_type": "stream",
     "text": [
      "ID of 0th element in Orginal List: 140719026062120\n",
      "ID of 0th element in Shallow Copy: 140719026062120\n",
      "--------------------------\n",
      "ID of 1th element in Orginal List: 140719026062152\n",
      "ID of 1th element in Shallow Copy: 140719026062152\n",
      "--------------------------\n",
      "ID of 2th element in Orginal List: 2377505935744\n",
      "ID of 2th element in Shallow Copy: 2377505935744\n",
      "--------------------------\n"
     ]
    }
   ],
   "source": [
    "for i in range(len(shallow_copy)):\n",
    "    print(f\"ID of {i}th element in Orginal List: {id(original_list[i])}\")\n",
    "    print(f\"ID of {i}th element in Shallow Copy: {id(shallow_copy[i])}\")\n",
    "    print(\"--------------------------\")"
   ]
  },
  {
   "cell_type": "code",
   "execution_count": 39,
   "id": "6dacff51-e3ae-42de-8207-6f19095356a0",
   "metadata": {},
   "outputs": [
    {
     "name": "stdout",
     "output_type": "stream",
     "text": [
      "Original List: [10, 'hello', (1, 2, 3)]\n",
      "Shallow Copy: [99, 'hello', (1, 2, 3)]\n"
     ]
    }
   ],
   "source": [
    "original_list = [10, \"hello\", (1, 2, 3)]  # Contains integers, strings, and a tuple (all immutable)\n",
    "shallow_copy = original_list.copy()\n",
    "\n",
    "# Modify the first element in the shallow copy\n",
    "shallow_copy[0] = 99\n",
    "\n",
    "print(\"Original List:\", original_list)  # [10, \"hello\", (1, 2, 3)]\n",
    "print(\"Shallow Copy:\", shallow_copy)    # [99, \"hello\", (1, 2, 3)]"
   ]
  },
  {
   "cell_type": "code",
   "execution_count": 40,
   "id": "cedf3992-2dfa-4d47-92bd-e0fa2304a2ce",
   "metadata": {},
   "outputs": [
    {
     "name": "stdout",
     "output_type": "stream",
     "text": [
      "Original List: [1, 2, [3, 4]]\n",
      "Deep Copy: [1, 2, [99, 4]]\n"
     ]
    }
   ],
   "source": [
    "# Original list with nested structure\n",
    "original_list = [1, 2, [3, 4]]\n",
    "\n",
    "# Create a deep copy\n",
    "deep_copy = copy.deepcopy(original_list)\n",
    "\n",
    "# Modify the nested list\n",
    "deep_copy[2][0] = 99\n",
    "\n",
    "# Observe the results\n",
    "print(\"Original List:\", original_list)  # [1, 2, [3, 4]]\n",
    "print(\"Deep Copy:\", deep_copy)          # [1, 2, [99, 4]]"
   ]
  },
  {
   "cell_type": "code",
   "execution_count": 41,
   "id": "a213b230-638a-4fd5-ac0a-8e6cc6c666bf",
   "metadata": {},
   "outputs": [
    {
     "name": "stdout",
     "output_type": "stream",
     "text": [
      "ID of 0th element in Orginal List: 140719026062120\n",
      "ID of 0th element in Shallow Copy: 140719026065256\n",
      "--------------------------\n",
      "ID of 1th element in Orginal List: 140719026062152\n",
      "ID of 1th element in Shallow Copy: 2377446900592\n",
      "--------------------------\n",
      "ID of 2th element in Orginal List: 2377470769920\n",
      "ID of 2th element in Shallow Copy: 2377505514752\n",
      "--------------------------\n"
     ]
    }
   ],
   "source": [
    "for i in range(len(deep_copy)):\n",
    "    print(f\"ID of {i}th element in Orginal List: {id(original_list[i])}\")\n",
    "    print(f\"ID of {i}th element in Shallow Copy: {id(shallow_copy[i])}\")\n",
    "    print(\"--------------------------\")"
   ]
  },
  {
   "cell_type": "code",
   "execution_count": 45,
   "id": "616e7e80-c02f-43bf-98c2-3a929cdffc79",
   "metadata": {},
   "outputs": [
    {
     "name": "stdout",
     "output_type": "stream",
     "text": [
      "Original tuple of lists:  ([1, 100], [3, 4], [5, 6])\n",
      "Shallow Copy of tuple of lists:  ([1, 100], [3, 4], [5, 6])\n"
     ]
    }
   ],
   "source": [
    "# Compare the behavior of shallow_copy() and deep_copy() for a tuple containing lists.\n",
    "orginal_list_for_shallow = ([1,2],[3,4],[5,6])\n",
    "shallow_copy = orginal_list_for_shallow[:]\n",
    "\n",
    "# make a change to first list, second element\n",
    "shallow_copy[0][1] = 100\n",
    "\n",
    "print(\"Original tuple of lists: \", orginal_list_for_shallow)\n",
    "print(\"Shallow Copy of tuple of lists: \", shallow_copy)"
   ]
  },
  {
   "cell_type": "code",
   "execution_count": 46,
   "id": "c137ca45-8b57-4926-84b4-b936ee1a0fd2",
   "metadata": {},
   "outputs": [
    {
     "name": "stdout",
     "output_type": "stream",
     "text": [
      "Original tuple of lists:  ([1, 2], [3, 4], [5, 6])\n",
      "Deep Copy of tuple of lists:  ([1, 100], [3, 4], [5, 6])\n"
     ]
    }
   ],
   "source": [
    "orginal_list_for_deep = ([1,2],[3,4],[5,6])\n",
    "deep_copy = copy.deepcopy(orginal_list_for_shallow)\n",
    "\n",
    "# make a change to first list, second element\n",
    "deep_copy[0][1] = 100\n",
    "\n",
    "print(\"Original tuple of lists: \", orginal_list_for_deep)\n",
    "print(\"Deep Copy of tuple of lists: \", deep_copy)"
   ]
  },
  {
   "cell_type": "code",
   "execution_count": null,
   "id": "eec4d6ea-f2d0-489c-aa37-e5f0af926b06",
   "metadata": {},
   "outputs": [],
   "source": []
  }
 ],
 "metadata": {
  "kernelspec": {
   "display_name": "Python 3 (ipykernel)",
   "language": "python",
   "name": "python3"
  },
  "language_info": {
   "codemirror_mode": {
    "name": "ipython",
    "version": 3
   },
   "file_extension": ".py",
   "mimetype": "text/x-python",
   "name": "python",
   "nbconvert_exporter": "python",
   "pygments_lexer": "ipython3",
   "version": "3.11.7"
  }
 },
 "nbformat": 4,
 "nbformat_minor": 5
}
